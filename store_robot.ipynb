{
 "cells": [
  {
   "cell_type": "code",
   "execution_count": null,
   "metadata": {},
   "outputs": [],
   "source": [
    "#   --------------\n",
    "#   |A   B   C | D\n",
    "#   ---- \n",
    "#   |E | F | G   H\n",
    "#   |      -----  \n",
    "#   |I   J   K   L\n",
    "#   |-------------\n",
    "\n"
   ]
  },
  {
   "cell_type": "code",
   "execution_count": 18,
   "metadata": {},
   "outputs": [],
   "source": [
    "import numpy as np"
   ]
  },
  {
   "cell_type": "code",
   "execution_count": 19,
   "metadata": {},
   "outputs": [],
   "source": [
    "gamma = 0.75\n",
    "alpha = 0.9"
   ]
  },
  {
   "cell_type": "code",
   "execution_count": 20,
   "metadata": {},
   "outputs": [],
   "source": [
    "# Defining the states\n",
    "location_to_state = {'A': 0,\n",
    "                     'B': 1,\n",
    "                     'C': 2,\n",
    "                     'D': 3,\n",
    "                     'E': 4,\n",
    "                     'F': 5,\n",
    "                     'G': 6,\n",
    "                     'H': 7,\n",
    "                     'I': 8,\n",
    "                     'J': 9,\n",
    "                     'K': 10,\n",
    "                     'L': 11}\n"
   ]
  },
  {
   "cell_type": "code",
   "execution_count": 21,
   "metadata": {},
   "outputs": [],
   "source": [
    "# Defining the actions\n",
    "actions = [0,1,2,3,4,5,6,7,8,9,10,11]"
   ]
  },
  {
   "cell_type": "code",
   "execution_count": 22,
   "metadata": {},
   "outputs": [],
   "source": [
    "# Defining the rewards\n",
    "\n",
    "\n",
    "# rows represent the current state and column represent the reward agent will get by doing some action \n",
    "# in first row Agent is at Position A and he will get reward only if he moves to position B\n",
    "\n",
    "\n",
    "#--------------A,B,C,D,E,F,G,H,I,J,K,L\n",
    "R = np.array([[0,1,0,0,0,0,0,0,0,0,0,0],    #A\n",
    "              [1,0,1,0,0,1,0,0,0,0,0,0],    #B\n",
    "              [0,1,0,0,0,0,1,0,0,0,0,0],    #C\n",
    "              [0,0,0,0,0,0,0,1,0,0,0,0],    #D\n",
    "              [0,0,0,0,0,0,0,0,1,0,0,0],    #E\n",
    "              [0,1,0,0,0,0,0,0,0,1,0,0],    #F\n",
    "              [0,0,1,0,0,0,1000,1,0,0,0,0], #G\n",
    "              [0,0,0,1,0,0,1,0,0,0,0,1],    #H\n",
    "              [0,0,0,0,1,0,0,0,0,1,0,0],    #I\n",
    "              [0,0,0,0,0,1,0,0,1,0,1,0],    #J\n",
    "              [0,0,0,0,0,0,0,0,0,1,0,1],    #K\n",
    "              [0,0,0,0,0,0,0,1,0,0,1,0]])   #L"
   ]
  },
  {
   "cell_type": "code",
   "execution_count": 23,
   "metadata": {},
   "outputs": [
    {
     "name": "stdout",
     "output_type": "stream",
     "text": [
      "[[0. 0. 0. 0. 0. 0. 0. 0. 0. 0. 0. 0.]\n",
      " [0. 0. 0. 0. 0. 0. 0. 0. 0. 0. 0. 0.]\n",
      " [0. 0. 0. 0. 0. 0. 0. 0. 0. 0. 0. 0.]\n",
      " [0. 0. 0. 0. 0. 0. 0. 0. 0. 0. 0. 0.]\n",
      " [0. 0. 0. 0. 0. 0. 0. 0. 0. 0. 0. 0.]\n",
      " [0. 0. 0. 0. 0. 0. 0. 0. 0. 0. 0. 0.]\n",
      " [0. 0. 0. 0. 0. 0. 0. 0. 0. 0. 0. 0.]\n",
      " [0. 0. 0. 0. 0. 0. 0. 0. 0. 0. 0. 0.]\n",
      " [0. 0. 0. 0. 0. 0. 0. 0. 0. 0. 0. 0.]\n",
      " [0. 0. 0. 0. 0. 0. 0. 0. 0. 0. 0. 0.]\n",
      " [0. 0. 0. 0. 0. 0. 0. 0. 0. 0. 0. 0.]\n",
      " [0. 0. 0. 0. 0. 0. 0. 0. 0. 0. 0. 0.]]\n"
     ]
    }
   ],
   "source": [
    "#Initializing the Q-Values\n",
    "Q = np.array(np.zeros([12,12]))\n",
    "print(Q)"
   ]
  },
  {
   "cell_type": "code",
   "execution_count": 24,
   "metadata": {},
   "outputs": [],
   "source": [
    "# calulating the Q-Values\n",
    "for i in range(1000):\n",
    "    current_state = np.random.randint(0,12)\n",
    "    playable_actions = []\n",
    "    for j in range(12):\n",
    "        if R[current_state, j] > 0:\n",
    "            playable_actions.append(j)\n",
    "    next_state = np.random.choice(playable_actions)\n",
    "    TD = R[current_state, next_state] + gamma*Q[next_state, np.argmax(Q[next_state,])]- Q[current_state, next_state]\n",
    "    Q[current_state, next_state] = Q[current_state, next_state] + alpha*TD"
   ]
  },
  {
   "cell_type": "code",
   "execution_count": 25,
   "metadata": {},
   "outputs": [
    {
     "name": "stdout",
     "output_type": "stream",
     "text": [
      "Q-Values:\n",
      "[[   0 1688    0    0    0    0    0    0    0    0    0    0]\n",
      " [1267    0 2249    0    0 1266    0    0    0    0    0    0]\n",
      " [   0 1688    0    0    0    0 2999    0    0    0    0    0]\n",
      " [   0    0    0    0    0    0    0 2249    0    0    0    0]\n",
      " [   0    0    0    0    0    0    0    0  712    0    0    0]\n",
      " [   0 1688    0    0    0    0    0    0    0  949    0    0]\n",
      " [   0    0 2250    0    0    0 3998 2250    0    0    0    0]\n",
      " [   0    0    0 1688    0    0 2999    0    0    0    0 1687]\n",
      " [   0    0    0    0  535    0    0    0    0  949    0    0]\n",
      " [   0    0    0    0    0 1264    0    0  713    0 1263    0]\n",
      " [   0    0    0    0    0    0    0    0    0  949    0 1688]\n",
      " [   0    0    0    0    0    0    0 2249    0    0 1263    0]]\n"
     ]
    }
   ],
   "source": [
    "print(\"Q-Values:\")\n",
    "print(Q.astype(int))\n"
   ]
  },
  {
   "cell_type": "code",
   "execution_count": 26,
   "metadata": {},
   "outputs": [],
   "source": [
    "# Making a mapping from the states to the locations\n",
    "state_to_location = {state: location for location, state in location_to_state.items()}"
   ]
  },
  {
   "cell_type": "code",
   "execution_count": 27,
   "metadata": {},
   "outputs": [
    {
     "name": "stdout",
     "output_type": "stream",
     "text": [
      "Route:\n"
     ]
    },
    {
     "data": {
      "text/plain": [
       "['E', 'I', 'J', 'F', 'B', 'C', 'G']"
      ]
     },
     "execution_count": 27,
     "metadata": {},
     "output_type": "execute_result"
    }
   ],
   "source": [
    "#final function that will return the optimal route\n",
    "def route(starting_location, ending_location):\n",
    "    route = [starting_location]\n",
    "    next_location = starting_location\n",
    "    while (next_location != ending_location):\n",
    "        starting_state = location_to_state[starting_location]\n",
    "        next_state = np.argmax(Q[starting_state,])\n",
    "        next_location = state_to_location[next_state]\n",
    "        route.append(next_location)\n",
    "        starting_location = next_location\n",
    "    return route\n",
    "print('Route:')\n",
    "route('E', 'G')\n",
    "\n",
    "#   --------------\n",
    "#   |A   B   C | D\n",
    "#   ---- \n",
    "#   |E | F | G   H\n",
    "#   |      -----  \n",
    "#   |I   J   K   L\n",
    "#   |-------------\n"
   ]
  },
  {
   "cell_type": "code",
   "execution_count": null,
   "metadata": {},
   "outputs": [],
   "source": [
    "#   -----------------------Optimized Approach------------------------------"
   ]
  },
  {
   "cell_type": "code",
   "execution_count": 28,
   "metadata": {},
   "outputs": [],
   "source": [
    "\n",
    "\n",
    "# Defining the rewards\n",
    "# rows represent the current state and column represent the reward agent will get by doing some action \n",
    "# in first row Agent is at Position A and he will get reward only if he moves to position B\n",
    "# difference from the previous approach is that the reward for final State that is G is not updated to 1000. It will increase automatically\n",
    "\n",
    "#--------------A,B,C,D,E,F,G,H,I,J,K,L\n",
    "R = np.array([[0,1,0,0,0,0,0,0,0,0,0,0], #A\n",
    "              [1,0,1,0,0,1,0,0,0,0,0,0], #B\n",
    "              [0,1,0,0,0,0,1,0,0,0,0,0], #C\n",
    "              [0,0,0,0,0,0,0,1,0,0,0,0], #D\n",
    "              [0,0,0,0,0,0,0,0,1,0,0,0], #E\n",
    "              [0,1,0,0,0,0,0,0,0,1,0,0], #F\n",
    "              [0,0,1,0,0,0,1,1,0,0,0,0], #G\n",
    "              [0,0,0,1,0,0,1,0,0,0,0,1], #H\n",
    "              [0,0,0,0,1,0,0,0,0,1,0,0], #I\n",
    "              [0,0,0,0,0,1,0,0,1,0,1,0], #J\n",
    "              [0,0,0,0,0,0,0,0,0,1,0,1], #K\n",
    "              [0,0,0,0,0,0,0,1,0,0,1,0]])#L\n",
    "\n",
    "\n",
    "# mapping from the states to the locations\n",
    "state_to_location = {state: location for location, state in location_to_state.items()}\n",
    "\n"
   ]
  },
  {
   "cell_type": "code",
   "execution_count": 29,
   "metadata": {},
   "outputs": [],
   "source": [
    "# function that returns the shortest route from a starting to ending location\n",
    "def route(starting_location, ending_location):\n",
    "    R_new = np.copy(R)\n",
    "    ending_state = location_to_state[ending_location]\n",
    "    R_new[ending_state, ending_state] = 1000\n",
    "    Q = np.array(np.zeros([12,12]))\n",
    "    for i in range(1000):\n",
    "        current_state = np.random.randint(0,12)\n",
    "        playable_actions = []\n",
    "        for j in range(12):\n",
    "            if R_new[current_state, j] > 0:\n",
    "                playable_actions.append(j)\n",
    "        next_state = np.random.choice(playable_actions)\n",
    "        TD = R_new[current_state, next_state] + gamma * Q[next_state, np.argmax(Q[next_state,])] - Q[current_state, next_state]\n",
    "        Q[current_state, next_state] = Q[current_state, next_state] + alpha * TD\n",
    "    route = [starting_location]\n",
    "    next_location = starting_location\n",
    "    while (next_location != ending_location):\n",
    "        starting_state = location_to_state[starting_location]\n",
    "        next_state = np.argmax(Q[starting_state,])\n",
    "        next_location = state_to_location[next_state]\n",
    "        route.append(next_location)\n",
    "        starting_location = next_location\n",
    "    return route\n",
    "\n"
   ]
  },
  {
   "cell_type": "code",
   "execution_count": 30,
   "metadata": {},
   "outputs": [
    {
     "name": "stdout",
     "output_type": "stream",
     "text": [
      "Route:\n"
     ]
    },
    {
     "data": {
      "text/plain": [
       "['E', 'I', 'J', 'K', 'L', 'H', 'G']"
      ]
     },
     "execution_count": 30,
     "metadata": {},
     "output_type": "execute_result"
    }
   ],
   "source": [
    "\n",
    "# final function that returns the optimal route\n",
    "def best_route(starting_location, intermediary_location, ending_location):\n",
    "    return route(starting_location, intermediary_location) + route(intermediary_location, ending_location)[1:]\n",
    "\n",
    "\n",
    "print('Route:')\n",
    "best_route('E', 'K', 'G')\n",
    "\n",
    "\n",
    "#   --------------\n",
    "#   |A   B   C | D\n",
    "#   ---- \n",
    "#   |E | F | G   H\n",
    "#   |      -----  \n",
    "#   |I   J   K   L\n",
    "#   |-------------\n"
   ]
  }
 ],
 "metadata": {
  "kernelspec": {
   "display_name": "Python 3",
   "language": "python",
   "name": "python3"
  },
  "language_info": {
   "codemirror_mode": {
    "name": "ipython",
    "version": 3
   },
   "file_extension": ".py",
   "mimetype": "text/x-python",
   "name": "python",
   "nbconvert_exporter": "python",
   "pygments_lexer": "ipython3",
   "version": "3.12.0"
  }
 },
 "nbformat": 4,
 "nbformat_minor": 2
}
